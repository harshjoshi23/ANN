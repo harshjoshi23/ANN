{
  "nbformat": 4,
  "nbformat_minor": 0,
  "metadata": {
    "colab": {
      "name": "Annimproved.ipynb",
      "provenance": [],
      "collapsed_sections": [],
      "authorship_tag": "ABX9TyM197nSVuu98CqvOSNr89ui",
      "include_colab_link": true
    },
    "kernelspec": {
      "name": "python3",
      "display_name": "Python 3"
    },
    "language_info": {
      "name": "python"
    }
  },
  "cells": [
    {
      "cell_type": "markdown",
      "metadata": {
        "id": "view-in-github",
        "colab_type": "text"
      },
      "source": [
        "<a href=\"https://colab.research.google.com/github/harshjoshi23/ANN/blob/main/Annimproved.ipynb\" target=\"_parent\"><img src=\"https://colab.research.google.com/assets/colab-badge.svg\" alt=\"Open In Colab\"/></a>"
      ]
    },
    {
      "cell_type": "code",
      "metadata": {
        "id": "fTuWRMb-dnNG"
      },
      "source": [
        "# predictiong a binary output classificatiion prob\n",
        "\n",
        "import numpy as np\n",
        "import matplotlib as plt\n",
        "import pandas as pd\n",
        "import seaborn as sns \n",
        "plt.rcParams['figure.figsize'] = (15, 5)\n",
        "from sklearn.model_selection import train_test_split\n",
        "from sklearn.impute import KNNImputer\n",
        "from sklearn.feature_selection import VarianceThreshold\n",
        "from sklearn.preprocessing import LabelEncoder, OneHotEncoder, StandardScaler, MinMaxScaler\n",
        "\n",
        "from sklearn.utils import class_weight\n",
        "from sklearn.feature_selection import SelectKBest, chi2, RFECV, SelectFromModel\n",
        "from sklearn.compose import ColumnTransformer, make_column_transformer\n",
        "\n",
        "from keras.models import load_model\n",
        "from keras.layers import Dense\n",
        "from keras.models import load_model\n",
        "\n",
        "\n"
      ],
      "execution_count": 1,
      "outputs": []
    },
    {
      "cell_type": "code",
      "metadata": {
        "id": "IUK_njLjeCqO",
        "colab": {
          "base_uri": "https://localhost:8080/"
        },
        "outputId": "c531f56c-ceb6-4d45-e123-50114ea94134"
      },
      "source": [
        "from google.colab import drive\n",
        "drive.mount('/content/drive')"
      ],
      "execution_count": 2,
      "outputs": [
        {
          "output_type": "stream",
          "name": "stdout",
          "text": [
            "Mounted at /content/drive\n"
          ]
        }
      ]
    },
    {
      "cell_type": "markdown",
      "metadata": {
        "id": "-bkB0BIwZL0-"
      },
      "source": [
        "## Data Reading and Analysis "
      ]
    },
    {
      "cell_type": "code",
      "metadata": {
        "id": "eZAc-zvGd_02"
      },
      "source": [
        "# reading the DF \n",
        "df = pd.read_csv('/content/drive/MyDrive/Collabdf/Churn_Modelling.csv')"
      ],
      "execution_count": 3,
      "outputs": []
    },
    {
      "cell_type": "code",
      "metadata": {
        "id": "mwmqv-Qad_xc",
        "colab": {
          "base_uri": "https://localhost:8080/",
          "height": 362
        },
        "outputId": "9e80c716-b4a4-4146-e093-829e42b6b0ab"
      },
      "source": [
        "df.head(10)"
      ],
      "execution_count": 4,
      "outputs": [
        {
          "output_type": "execute_result",
          "data": {
            "text/html": [
              "<div>\n",
              "<style scoped>\n",
              "    .dataframe tbody tr th:only-of-type {\n",
              "        vertical-align: middle;\n",
              "    }\n",
              "\n",
              "    .dataframe tbody tr th {\n",
              "        vertical-align: top;\n",
              "    }\n",
              "\n",
              "    .dataframe thead th {\n",
              "        text-align: right;\n",
              "    }\n",
              "</style>\n",
              "<table border=\"1\" class=\"dataframe\">\n",
              "  <thead>\n",
              "    <tr style=\"text-align: right;\">\n",
              "      <th></th>\n",
              "      <th>RowNumber</th>\n",
              "      <th>CustomerId</th>\n",
              "      <th>Surname</th>\n",
              "      <th>CreditScore</th>\n",
              "      <th>Geography</th>\n",
              "      <th>Gender</th>\n",
              "      <th>Age</th>\n",
              "      <th>Tenure</th>\n",
              "      <th>Balance</th>\n",
              "      <th>NumOfProducts</th>\n",
              "      <th>HasCrCard</th>\n",
              "      <th>IsActiveMember</th>\n",
              "      <th>EstimatedSalary</th>\n",
              "      <th>Exited</th>\n",
              "    </tr>\n",
              "  </thead>\n",
              "  <tbody>\n",
              "    <tr>\n",
              "      <th>0</th>\n",
              "      <td>1</td>\n",
              "      <td>15634602</td>\n",
              "      <td>Hargrave</td>\n",
              "      <td>619</td>\n",
              "      <td>France</td>\n",
              "      <td>Female</td>\n",
              "      <td>42</td>\n",
              "      <td>2</td>\n",
              "      <td>0.00</td>\n",
              "      <td>1</td>\n",
              "      <td>1</td>\n",
              "      <td>1</td>\n",
              "      <td>101348.88</td>\n",
              "      <td>1</td>\n",
              "    </tr>\n",
              "    <tr>\n",
              "      <th>1</th>\n",
              "      <td>2</td>\n",
              "      <td>15647311</td>\n",
              "      <td>Hill</td>\n",
              "      <td>608</td>\n",
              "      <td>Spain</td>\n",
              "      <td>Female</td>\n",
              "      <td>41</td>\n",
              "      <td>1</td>\n",
              "      <td>83807.86</td>\n",
              "      <td>1</td>\n",
              "      <td>0</td>\n",
              "      <td>1</td>\n",
              "      <td>112542.58</td>\n",
              "      <td>0</td>\n",
              "    </tr>\n",
              "    <tr>\n",
              "      <th>2</th>\n",
              "      <td>3</td>\n",
              "      <td>15619304</td>\n",
              "      <td>Onio</td>\n",
              "      <td>502</td>\n",
              "      <td>France</td>\n",
              "      <td>Female</td>\n",
              "      <td>42</td>\n",
              "      <td>8</td>\n",
              "      <td>159660.80</td>\n",
              "      <td>3</td>\n",
              "      <td>1</td>\n",
              "      <td>0</td>\n",
              "      <td>113931.57</td>\n",
              "      <td>1</td>\n",
              "    </tr>\n",
              "    <tr>\n",
              "      <th>3</th>\n",
              "      <td>4</td>\n",
              "      <td>15701354</td>\n",
              "      <td>Boni</td>\n",
              "      <td>699</td>\n",
              "      <td>France</td>\n",
              "      <td>Female</td>\n",
              "      <td>39</td>\n",
              "      <td>1</td>\n",
              "      <td>0.00</td>\n",
              "      <td>2</td>\n",
              "      <td>0</td>\n",
              "      <td>0</td>\n",
              "      <td>93826.63</td>\n",
              "      <td>0</td>\n",
              "    </tr>\n",
              "    <tr>\n",
              "      <th>4</th>\n",
              "      <td>5</td>\n",
              "      <td>15737888</td>\n",
              "      <td>Mitchell</td>\n",
              "      <td>850</td>\n",
              "      <td>Spain</td>\n",
              "      <td>Female</td>\n",
              "      <td>43</td>\n",
              "      <td>2</td>\n",
              "      <td>125510.82</td>\n",
              "      <td>1</td>\n",
              "      <td>1</td>\n",
              "      <td>1</td>\n",
              "      <td>79084.10</td>\n",
              "      <td>0</td>\n",
              "    </tr>\n",
              "    <tr>\n",
              "      <th>5</th>\n",
              "      <td>6</td>\n",
              "      <td>15574012</td>\n",
              "      <td>Chu</td>\n",
              "      <td>645</td>\n",
              "      <td>Spain</td>\n",
              "      <td>Male</td>\n",
              "      <td>44</td>\n",
              "      <td>8</td>\n",
              "      <td>113755.78</td>\n",
              "      <td>2</td>\n",
              "      <td>1</td>\n",
              "      <td>0</td>\n",
              "      <td>149756.71</td>\n",
              "      <td>1</td>\n",
              "    </tr>\n",
              "    <tr>\n",
              "      <th>6</th>\n",
              "      <td>7</td>\n",
              "      <td>15592531</td>\n",
              "      <td>Bartlett</td>\n",
              "      <td>822</td>\n",
              "      <td>France</td>\n",
              "      <td>Male</td>\n",
              "      <td>50</td>\n",
              "      <td>7</td>\n",
              "      <td>0.00</td>\n",
              "      <td>2</td>\n",
              "      <td>1</td>\n",
              "      <td>1</td>\n",
              "      <td>10062.80</td>\n",
              "      <td>0</td>\n",
              "    </tr>\n",
              "    <tr>\n",
              "      <th>7</th>\n",
              "      <td>8</td>\n",
              "      <td>15656148</td>\n",
              "      <td>Obinna</td>\n",
              "      <td>376</td>\n",
              "      <td>Germany</td>\n",
              "      <td>Female</td>\n",
              "      <td>29</td>\n",
              "      <td>4</td>\n",
              "      <td>115046.74</td>\n",
              "      <td>4</td>\n",
              "      <td>1</td>\n",
              "      <td>0</td>\n",
              "      <td>119346.88</td>\n",
              "      <td>1</td>\n",
              "    </tr>\n",
              "    <tr>\n",
              "      <th>8</th>\n",
              "      <td>9</td>\n",
              "      <td>15792365</td>\n",
              "      <td>He</td>\n",
              "      <td>501</td>\n",
              "      <td>France</td>\n",
              "      <td>Male</td>\n",
              "      <td>44</td>\n",
              "      <td>4</td>\n",
              "      <td>142051.07</td>\n",
              "      <td>2</td>\n",
              "      <td>0</td>\n",
              "      <td>1</td>\n",
              "      <td>74940.50</td>\n",
              "      <td>0</td>\n",
              "    </tr>\n",
              "    <tr>\n",
              "      <th>9</th>\n",
              "      <td>10</td>\n",
              "      <td>15592389</td>\n",
              "      <td>H?</td>\n",
              "      <td>684</td>\n",
              "      <td>France</td>\n",
              "      <td>Male</td>\n",
              "      <td>27</td>\n",
              "      <td>2</td>\n",
              "      <td>134603.88</td>\n",
              "      <td>1</td>\n",
              "      <td>1</td>\n",
              "      <td>1</td>\n",
              "      <td>71725.73</td>\n",
              "      <td>0</td>\n",
              "    </tr>\n",
              "  </tbody>\n",
              "</table>\n",
              "</div>"
            ],
            "text/plain": [
              "   RowNumber  CustomerId   Surname  ...  IsActiveMember EstimatedSalary Exited\n",
              "0          1    15634602  Hargrave  ...               1       101348.88      1\n",
              "1          2    15647311      Hill  ...               1       112542.58      0\n",
              "2          3    15619304      Onio  ...               0       113931.57      1\n",
              "3          4    15701354      Boni  ...               0        93826.63      0\n",
              "4          5    15737888  Mitchell  ...               1        79084.10      0\n",
              "5          6    15574012       Chu  ...               0       149756.71      1\n",
              "6          7    15592531  Bartlett  ...               1        10062.80      0\n",
              "7          8    15656148    Obinna  ...               0       119346.88      1\n",
              "8          9    15792365        He  ...               1        74940.50      0\n",
              "9         10    15592389        H?  ...               1        71725.73      0\n",
              "\n",
              "[10 rows x 14 columns]"
            ]
          },
          "metadata": {},
          "execution_count": 4
        }
      ]
    },
    {
      "cell_type": "code",
      "metadata": {
        "id": "9aaIslbbd_u2",
        "colab": {
          "base_uri": "https://localhost:8080/"
        },
        "outputId": "0f0f3f3f-1073-48cf-c4aa-65018ecfeafa"
      },
      "source": [
        "df.info()"
      ],
      "execution_count": 5,
      "outputs": [
        {
          "output_type": "stream",
          "name": "stdout",
          "text": [
            "<class 'pandas.core.frame.DataFrame'>\n",
            "RangeIndex: 10000 entries, 0 to 9999\n",
            "Data columns (total 14 columns):\n",
            " #   Column           Non-Null Count  Dtype  \n",
            "---  ------           --------------  -----  \n",
            " 0   RowNumber        10000 non-null  int64  \n",
            " 1   CustomerId       10000 non-null  int64  \n",
            " 2   Surname          10000 non-null  object \n",
            " 3   CreditScore      10000 non-null  int64  \n",
            " 4   Geography        10000 non-null  object \n",
            " 5   Gender           10000 non-null  object \n",
            " 6   Age              10000 non-null  int64  \n",
            " 7   Tenure           10000 non-null  int64  \n",
            " 8   Balance          10000 non-null  float64\n",
            " 9   NumOfProducts    10000 non-null  int64  \n",
            " 10  HasCrCard        10000 non-null  int64  \n",
            " 11  IsActiveMember   10000 non-null  int64  \n",
            " 12  EstimatedSalary  10000 non-null  float64\n",
            " 13  Exited           10000 non-null  int64  \n",
            "dtypes: float64(2), int64(9), object(3)\n",
            "memory usage: 1.1+ MB\n"
          ]
        }
      ]
    },
    {
      "cell_type": "markdown",
      "metadata": {
        "id": "3NoszGHaZqCd"
      },
      "source": [
        "No need of null imputation and no date coloum present"
      ]
    },
    {
      "cell_type": "code",
      "metadata": {
        "id": "ydrkpswyZKmq"
      },
      "source": [
        "dfcopy = df.copy()"
      ],
      "execution_count": 6,
      "outputs": []
    },
    {
      "cell_type": "code",
      "metadata": {
        "colab": {
          "base_uri": "https://localhost:8080/"
        },
        "id": "EbVd5sU0Txx9",
        "outputId": "dcd14ab8-4913-4cd5-b3a2-3f9be6b8f4f5"
      },
      "source": [
        "df['Exited'].unique()"
      ],
      "execution_count": 7,
      "outputs": [
        {
          "output_type": "execute_result",
          "data": {
            "text/plain": [
              "array([1, 0])"
            ]
          },
          "metadata": {},
          "execution_count": 7
        }
      ]
    },
    {
      "cell_type": "markdown",
      "metadata": {
        "id": "m50XnyXdTywv"
      },
      "source": [
        "### Feature Engineering and selection"
      ]
    },
    {
      "cell_type": "code",
      "metadata": {
        "colab": {
          "base_uri": "https://localhost:8080/"
        },
        "id": "qyTaaYVmTxn1",
        "outputId": "8050ffe3-485c-4199-a119-53336994e494"
      },
      "source": [
        "dfcopy.info()"
      ],
      "execution_count": 8,
      "outputs": [
        {
          "output_type": "stream",
          "name": "stdout",
          "text": [
            "<class 'pandas.core.frame.DataFrame'>\n",
            "RangeIndex: 10000 entries, 0 to 9999\n",
            "Data columns (total 14 columns):\n",
            " #   Column           Non-Null Count  Dtype  \n",
            "---  ------           --------------  -----  \n",
            " 0   RowNumber        10000 non-null  int64  \n",
            " 1   CustomerId       10000 non-null  int64  \n",
            " 2   Surname          10000 non-null  object \n",
            " 3   CreditScore      10000 non-null  int64  \n",
            " 4   Geography        10000 non-null  object \n",
            " 5   Gender           10000 non-null  object \n",
            " 6   Age              10000 non-null  int64  \n",
            " 7   Tenure           10000 non-null  int64  \n",
            " 8   Balance          10000 non-null  float64\n",
            " 9   NumOfProducts    10000 non-null  int64  \n",
            " 10  HasCrCard        10000 non-null  int64  \n",
            " 11  IsActiveMember   10000 non-null  int64  \n",
            " 12  EstimatedSalary  10000 non-null  float64\n",
            " 13  Exited           10000 non-null  int64  \n",
            "dtypes: float64(2), int64(9), object(3)\n",
            "memory usage: 1.1+ MB\n"
          ]
        }
      ]
    },
    {
      "cell_type": "markdown",
      "metadata": {
        "id": "DMT1x-HXUQYx"
      },
      "source": [
        "Not seeing much features right now"
      ]
    },
    {
      "cell_type": "code",
      "metadata": {
        "id": "FEAdmc5STs8E"
      },
      "source": [
        "f_features = [\n",
        "            'Geography','Gender', 'Tenure','Age','Tenure','Balance','NumOfProducts','NumOfProducts','HasCrCard','EstimatedSalary','IsActiveMember'\n",
        "]"
      ],
      "execution_count": 9,
      "outputs": []
    },
    {
      "cell_type": "code",
      "metadata": {
        "id": "-nojzU6njAEp"
      },
      "source": [
        "X = dfcopy[f_features] # save\n",
        "y = dfcopy['Exited']"
      ],
      "execution_count": 10,
      "outputs": []
    },
    {
      "cell_type": "code",
      "metadata": {
        "colab": {
          "base_uri": "https://localhost:8080/",
          "height": 81
        },
        "id": "jC6dQWyJZQlT",
        "outputId": "1ebc4116-74e2-466d-b37e-bb5e3ecd094f"
      },
      "source": [
        "X.head(1)"
      ],
      "execution_count": 11,
      "outputs": [
        {
          "output_type": "execute_result",
          "data": {
            "text/html": [
              "<div>\n",
              "<style scoped>\n",
              "    .dataframe tbody tr th:only-of-type {\n",
              "        vertical-align: middle;\n",
              "    }\n",
              "\n",
              "    .dataframe tbody tr th {\n",
              "        vertical-align: top;\n",
              "    }\n",
              "\n",
              "    .dataframe thead th {\n",
              "        text-align: right;\n",
              "    }\n",
              "</style>\n",
              "<table border=\"1\" class=\"dataframe\">\n",
              "  <thead>\n",
              "    <tr style=\"text-align: right;\">\n",
              "      <th></th>\n",
              "      <th>Geography</th>\n",
              "      <th>Gender</th>\n",
              "      <th>Tenure</th>\n",
              "      <th>Age</th>\n",
              "      <th>Tenure</th>\n",
              "      <th>Balance</th>\n",
              "      <th>NumOfProducts</th>\n",
              "      <th>NumOfProducts</th>\n",
              "      <th>HasCrCard</th>\n",
              "      <th>EstimatedSalary</th>\n",
              "      <th>IsActiveMember</th>\n",
              "    </tr>\n",
              "  </thead>\n",
              "  <tbody>\n",
              "    <tr>\n",
              "      <th>0</th>\n",
              "      <td>France</td>\n",
              "      <td>Female</td>\n",
              "      <td>2</td>\n",
              "      <td>42</td>\n",
              "      <td>2</td>\n",
              "      <td>0.0</td>\n",
              "      <td>1</td>\n",
              "      <td>1</td>\n",
              "      <td>1</td>\n",
              "      <td>101348.88</td>\n",
              "      <td>1</td>\n",
              "    </tr>\n",
              "  </tbody>\n",
              "</table>\n",
              "</div>"
            ],
            "text/plain": [
              "  Geography  Gender  Tenure  ...  HasCrCard  EstimatedSalary  IsActiveMember\n",
              "0    France  Female       2  ...          1        101348.88               1\n",
              "\n",
              "[1 rows x 11 columns]"
            ]
          },
          "metadata": {},
          "execution_count": 11
        }
      ]
    },
    {
      "cell_type": "code",
      "metadata": {
        "id": "YxaTKp9FZnrt"
      },
      "source": [
        "categorical_features = ['Geography','Gender']\n"
      ],
      "execution_count": 12,
      "outputs": []
    },
    {
      "cell_type": "markdown",
      "metadata": {
        "id": "vQW8vhksW-Zn"
      },
      "source": [
        "## Encodig Our Data "
      ]
    },
    {
      "cell_type": "code",
      "metadata": {
        "colab": {
          "base_uri": "https://localhost:8080/"
        },
        "id": "ISHzGaXeW-E-",
        "outputId": "4df8432f-2307-4ee1-bc13-f021af54288e"
      },
      "source": [
        "labelencoder_X = LabelEncoder()\n",
        "# X['Geography'] =  labelencoder_X.fit_transform(X['Geography'])\n",
        "X['Gender'] = labelencoder_X.fit_transform(X['Gender'])"
      ],
      "execution_count": 13,
      "outputs": [
        {
          "output_type": "stream",
          "name": "stderr",
          "text": [
            "/usr/local/lib/python3.7/dist-packages/ipykernel_launcher.py:3: SettingWithCopyWarning: \n",
            "A value is trying to be set on a copy of a slice from a DataFrame.\n",
            "Try using .loc[row_indexer,col_indexer] = value instead\n",
            "\n",
            "See the caveats in the documentation: https://pandas.pydata.org/pandas-docs/stable/user_guide/indexing.html#returning-a-view-versus-a-copy\n",
            "  This is separate from the ipykernel package so we can avoid doing imports until\n"
          ]
        }
      ]
    },
    {
      "cell_type": "code",
      "metadata": {
        "colab": {
          "base_uri": "https://localhost:8080/"
        },
        "id": "JXwxrwsLfbj5",
        "outputId": "b7fbd43a-a36c-47ad-d3ea-eec7372cbef3"
      },
      "source": [
        "X.shape"
      ],
      "execution_count": 14,
      "outputs": [
        {
          "output_type": "execute_result",
          "data": {
            "text/plain": [
              "(10000, 11)"
            ]
          },
          "metadata": {},
          "execution_count": 14
        }
      ]
    },
    {
      "cell_type": "code",
      "metadata": {
        "colab": {
          "base_uri": "https://localhost:8080/",
          "height": 81
        },
        "id": "OclxdoGuaNNY",
        "outputId": "dc2b062b-e127-47b3-cf3f-c497e58cdbab"
      },
      "source": [
        "X.head(1) "
      ],
      "execution_count": 15,
      "outputs": [
        {
          "output_type": "execute_result",
          "data": {
            "text/html": [
              "<div>\n",
              "<style scoped>\n",
              "    .dataframe tbody tr th:only-of-type {\n",
              "        vertical-align: middle;\n",
              "    }\n",
              "\n",
              "    .dataframe tbody tr th {\n",
              "        vertical-align: top;\n",
              "    }\n",
              "\n",
              "    .dataframe thead th {\n",
              "        text-align: right;\n",
              "    }\n",
              "</style>\n",
              "<table border=\"1\" class=\"dataframe\">\n",
              "  <thead>\n",
              "    <tr style=\"text-align: right;\">\n",
              "      <th></th>\n",
              "      <th>Geography</th>\n",
              "      <th>Gender</th>\n",
              "      <th>Tenure</th>\n",
              "      <th>Age</th>\n",
              "      <th>Tenure</th>\n",
              "      <th>Balance</th>\n",
              "      <th>NumOfProducts</th>\n",
              "      <th>NumOfProducts</th>\n",
              "      <th>HasCrCard</th>\n",
              "      <th>EstimatedSalary</th>\n",
              "      <th>IsActiveMember</th>\n",
              "    </tr>\n",
              "  </thead>\n",
              "  <tbody>\n",
              "    <tr>\n",
              "      <th>0</th>\n",
              "      <td>France</td>\n",
              "      <td>0</td>\n",
              "      <td>2</td>\n",
              "      <td>42</td>\n",
              "      <td>2</td>\n",
              "      <td>0.0</td>\n",
              "      <td>1</td>\n",
              "      <td>1</td>\n",
              "      <td>1</td>\n",
              "      <td>101348.88</td>\n",
              "      <td>1</td>\n",
              "    </tr>\n",
              "  </tbody>\n",
              "</table>\n",
              "</div>"
            ],
            "text/plain": [
              "  Geography  Gender  Tenure  ...  HasCrCard  EstimatedSalary  IsActiveMember\n",
              "0    France       0       2  ...          1        101348.88               1\n",
              "\n",
              "[1 rows x 11 columns]"
            ]
          },
          "metadata": {},
          "execution_count": 15
        }
      ]
    },
    {
      "cell_type": "code",
      "metadata": {
        "id": "wtIIjcSpGuhr"
      },
      "source": [
        "# ohe=pd.get_dummies(X['Geography'])\n",
        "# ohe"
      ],
      "execution_count": 16,
      "outputs": []
    },
    {
      "cell_type": "code",
      "metadata": {
        "id": "7hO30fuJfixo"
      },
      "source": [
        ""
      ],
      "execution_count": 17,
      "outputs": []
    },
    {
      "cell_type": "code",
      "metadata": {
        "id": "qxqk0cbVf4ZQ"
      },
      "source": [
        "from sklearn.preprocessing import LabelBinarizer\n"
      ],
      "execution_count": 18,
      "outputs": []
    },
    {
      "cell_type": "code",
      "metadata": {
        "id": "ZcRsJzVnf4SQ"
      },
      "source": [
        "X = LabelBinarizer().fit_transform(df.Geography)\n"
      ],
      "execution_count": 19,
      "outputs": []
    },
    {
      "cell_type": "code",
      "metadata": {
        "id": "GRo_9704KT0i"
      },
      "source": [
        "# ct = ColumnTransformer([(\"Geography\", OneHotEncoder(), [])], remainder = 'passthrough')\n",
        "# X = ct.fit_transform(X)"
      ],
      "execution_count": 20,
      "outputs": []
    },
    {
      "cell_type": "code",
      "metadata": {
        "colab": {
          "base_uri": "https://localhost:8080/"
        },
        "id": "LdOgIO63fhtc",
        "outputId": "3ce9eb30-55f6-4cab-fb68-c0604297d187"
      },
      "source": [
        "X"
      ],
      "execution_count": 21,
      "outputs": [
        {
          "output_type": "execute_result",
          "data": {
            "text/plain": [
              "array([[1, 0, 0],\n",
              "       [0, 0, 1],\n",
              "       [1, 0, 0],\n",
              "       ...,\n",
              "       [1, 0, 0],\n",
              "       [0, 1, 0],\n",
              "       [1, 0, 0]])"
            ]
          },
          "metadata": {},
          "execution_count": 21
        }
      ]
    },
    {
      "cell_type": "code",
      "metadata": {
        "id": "GXHCvVcNW93t"
      },
      "source": [
        "# onehotencoder = OneHotEncoder(categorical_features = ['Geography'])\n",
        "# X = onehotencoder.fir_transform(X).toarray()\n"
      ],
      "execution_count": 22,
      "outputs": []
    },
    {
      "cell_type": "markdown",
      "metadata": {
        "id": "FRCSm8X8hJRS"
      },
      "source": [
        "## Train Test Split"
      ]
    },
    {
      "cell_type": "code",
      "metadata": {
        "id": "SWLTlgTHG-St"
      },
      "source": [
        "X = X[:, 1: ]"
      ],
      "execution_count": 23,
      "outputs": []
    },
    {
      "cell_type": "code",
      "metadata": {
        "id": "Ityu7A9YG-O3"
      },
      "source": [
        ""
      ],
      "execution_count": 23,
      "outputs": []
    },
    {
      "cell_type": "code",
      "metadata": {
        "id": "Xl9FqC3TZKcX"
      },
      "source": [
        "X_train, X_test, y_train, y_test = train_test_split(X, y, test_size=0.25,random_state=1)\n",
        "\n"
      ],
      "execution_count": 24,
      "outputs": []
    },
    {
      "cell_type": "code",
      "metadata": {
        "id": "wcTtFXy0ZKTK",
        "colab": {
          "base_uri": "https://localhost:8080/",
          "height": 87
        },
        "outputId": "968bce53-db7e-4e2b-f539-d9e28647255c"
      },
      "source": [
        "display(X_train.shape )\n",
        "display(X_test.shape )\n",
        "display(y_train.shape )\n",
        "display(y_test.shape )\n"
      ],
      "execution_count": 25,
      "outputs": [
        {
          "output_type": "display_data",
          "data": {
            "text/plain": [
              "(7500, 2)"
            ]
          },
          "metadata": {}
        },
        {
          "output_type": "display_data",
          "data": {
            "text/plain": [
              "(2500, 2)"
            ]
          },
          "metadata": {}
        },
        {
          "output_type": "display_data",
          "data": {
            "text/plain": [
              "(7500,)"
            ]
          },
          "metadata": {}
        },
        {
          "output_type": "display_data",
          "data": {
            "text/plain": [
              "(2500,)"
            ]
          },
          "metadata": {}
        }
      ]
    },
    {
      "cell_type": "code",
      "metadata": {
        "id": "MRcgUdUR6uz0"
      },
      "source": [
        "from  sklearn.preprocessing import StandardScaler \n",
        "sc = StandardScaler()\n",
        "X_train = sc.fit_transform(X_train)\n",
        "X_test = sc.transform(X_test)"
      ],
      "execution_count": 26,
      "outputs": []
    },
    {
      "cell_type": "code",
      "metadata": {
        "id": "hTBthkGMYRuN"
      },
      "source": [
        "import keras\n",
        "from keras.layers import Dense\n",
        "from keras.models import Sequential\n",
        "\n"
      ],
      "execution_count": 27,
      "outputs": []
    },
    {
      "cell_type": "code",
      "metadata": {
        "id": "fnAXMuyoYRrB"
      },
      "source": [
        "classifier = Sequential()\n"
      ],
      "execution_count": 28,
      "outputs": []
    },
    {
      "cell_type": "code",
      "metadata": {
        "id": "IHsVeAHwYRoZ"
      },
      "source": [
        ""
      ],
      "execution_count": 28,
      "outputs": []
    },
    {
      "cell_type": "markdown",
      "metadata": {
        "id": "4lz8YJp-S2QI"
      },
      "source": [
        "## Adding Hidden layers"
      ]
    },
    {
      "cell_type": "markdown",
      "metadata": {
        "id": "yv9-cb-WaE13"
      },
      "source": [
        "### Adding the first Hidden Layer"
      ]
    },
    {
      "cell_type": "markdown",
      "metadata": {
        "id": "71iybz_raNSR"
      },
      "source": [
        "Step 1 Randomly intitialize the weight of node to small no By Dense \n",
        "<br>\n",
        "Step 2 Each feature goes to the neural network \n",
        "<br>\n",
        "Step 3 We will use \n",
        "\n",
        "*   Rectifier   hidden layer\n",
        "*   Sigmoidal - op layer \n",
        "\n",
        "Step 4 Compare Predicted Results to actual results. Measure the generated error.\n",
        "\n",
        "Step 5 Back propogation from right to left, the error rate decides by how much we should update the weights.\n",
        "\n",
        "Step 6 Repeat 1 to 5 batch or one by one \n",
        "\n",
        "Step 7 When the whole training set passes through Ann that makes an epoch. Redo more epochs.\n",
        "\n",
        "\n"
      ]
    },
    {
      "cell_type": "markdown",
      "metadata": {
        "id": "h9PNbzhWy4OX"
      },
      "source": [
        "### Using Schostic gradient descent "
      ]
    },
    {
      "cell_type": "code",
      "metadata": {
        "colab": {
          "base_uri": "https://localhost:8080/",
          "height": 36
        },
        "id": "hO9xuIxDYRjw",
        "outputId": "a7abda94-b39c-4192-df23-69f31d64259f"
      },
      "source": [
        "# Add 1st hidden layer \n",
        "#using add method\n",
        "# All the hyper parameters are defined inside the dense function\n",
        "'''\n",
        "\n",
        "output_dim - no of nodes we want to add in hidden layer\n",
        "How many nodes to add - depends \n",
        "No of nodes in hidden = avg of (input and output layer)\n",
        "or , \n",
        "do hyper parameter tuning \n",
        "\n",
        "'''\n",
        "\n",
        "classifier.add(Dense(6, kernel_initializer='he_uniform', activation='relu'))\n",
        "# unoform fuction is used to distribute weights uniformly \n",
        "\n",
        "''' Activation Functions \n",
        "Rectifier - hidden layer\n",
        "Sigmoidal - op layer '''\n",
        "\n",
        "# input dim par  no of nodes in input layer, i.e. no of ind variabes \n",
        "'''because ann is only initialze so it don't know wich layer is input layer \n",
        "but we only specifeid for 1st one'''"
      ],
      "execution_count": 29,
      "outputs": [
        {
          "output_type": "execute_result",
          "data": {
            "application/vnd.google.colaboratory.intrinsic+json": {
              "type": "string"
            },
            "text/plain": [
              "\"because ann is only initialze so it don't know wich layer is input layer \\nbut we only specifeid for 1st one\""
            ]
          },
          "metadata": {},
          "execution_count": 29
        }
      ]
    },
    {
      "cell_type": "markdown",
      "metadata": {
        "id": "2oKxs4Q8SxLi"
      },
      "source": [
        "### Adding second Hidden layer "
      ]
    },
    {
      "cell_type": "code",
      "metadata": {
        "id": "88rAo_Zayt9R"
      },
      "source": [
        "classifier.add(Dense(6, kernel_initializer='he_uniform', activation='relu'))\n"
      ],
      "execution_count": 30,
      "outputs": []
    },
    {
      "cell_type": "markdown",
      "metadata": {
        "id": "mgpvlvuuT0jm"
      },
      "source": [
        "### Adding The output layer"
      ]
    },
    {
      "cell_type": "code",
      "metadata": {
        "colab": {
          "base_uri": "https://localhost:8080/",
          "height": 36
        },
        "id": "XAR36090yt5T",
        "outputId": "e57f79ee-613e-4edf-af6b-da2a9faa9157"
      },
      "source": [
        "classifier.add(Dense(1, kernel_initializer='he_uniform', activation='sigmoid'))\n",
        "#we are using our activation function \n",
        "# binary outcome 1 mode \n",
        "'''we need prob for outcome so we need sigmoidal not relur \n",
        "    sigmoidal fn is eart to prob \n",
        "'''\n",
        "\n",
        "'''if our outcome is not binary so we need to input 3 if we have 3 catagory \n",
        "and act fn is softmax and is kind of sigmoidal used for more than 2 catogeries'''\n",
        "\n"
      ],
      "execution_count": 31,
      "outputs": [
        {
          "output_type": "execute_result",
          "data": {
            "application/vnd.google.colaboratory.intrinsic+json": {
              "type": "string"
            },
            "text/plain": [
              "'if our outcome is not binary so we need to input 3 if we have 3 catagory \\nand act fn is softmax and is kind of sigmoidal used for more than 2 catogeries'"
            ]
          },
          "metadata": {},
          "execution_count": 31
        }
      ]
    },
    {
      "cell_type": "markdown",
      "metadata": {
        "id": "B4te1SZ1WwRs"
      },
      "source": [
        "## Compile our ann \n",
        "\n",
        "Applying stochastic gradient descent in ann"
      ]
    },
    {
      "cell_type": "code",
      "metadata": {
        "colab": {
          "base_uri": "https://localhost:8080/",
          "height": 53
        },
        "id": "m9ayUKkSYRhg",
        "outputId": "67eb7137-6e3c-4f8b-c7ca-c14769634391"
      },
      "source": [
        "'''\n",
        "def compile(optimizer='rmsprop', loss=None, metrics=None, loss_weights=None, weighted_metrics=None, run_eagerly=None, steps_per_execution=None, **kwargs)\n",
        "Configures the model for training.\n",
        "\n",
        "'''\n",
        "# in optimizer we add Stochaztic \n",
        "# loss  corrospond to loss fn in Adam method \n",
        "'''\n",
        "        specify a loss fn to find optimal weights \n",
        "        Same for a logesic regression \n",
        "            loss funtion is going to be a log function i.e. the log loss\n",
        "    '''\n",
        "# accuracy critarian  \n",
        "'''\n",
        "        metrics = ['accuracy']\n",
        "    '''\n",
        "\n",
        "'''\n",
        "Example:\n",
        "\n",
        "model.compile(optimizer=tf.keras.optimizer.Adam(learning_rate=1e-3),\n",
        "              loss=tf.keras.losses.BinaryCrossentropy(),\n",
        "              metrics=[tf.keras.metrics.BinaryAccuracy(),\n",
        "                       tf.keras.metrics.FalseNegatives()])\n",
        "\n",
        "\n",
        "                       '''"
      ],
      "execution_count": 32,
      "outputs": [
        {
          "output_type": "execute_result",
          "data": {
            "application/vnd.google.colaboratory.intrinsic+json": {
              "type": "string"
            },
            "text/plain": [
              "'\\nExample:\\n\\nmodel.compile(optimizer=tf.keras.optimizer.Adam(learning_rate=1e-3),\\n              loss=tf.keras.losses.BinaryCrossentropy(),\\n              metrics=[tf.keras.metrics.BinaryAccuracy(),\\n                       tf.keras.metrics.FalseNegatives()])\\n\\n\\n                       '"
            ]
          },
          "metadata": {},
          "execution_count": 32
        }
      ]
    },
    {
      "cell_type": "code",
      "metadata": {
        "colab": {
          "base_uri": "https://localhost:8080/",
          "height": 36
        },
        "id": "yR4L37kJYReU",
        "outputId": "903731c0-96e4-497d-bd19-47638b917848"
      },
      "source": [
        "'''\n",
        "\n",
        "adam   BinaryCrossentropy  catagoricalCrossentropy(for more tan 2)\n",
        "\n",
        "'''\n",
        "\n"
      ],
      "execution_count": 33,
      "outputs": [
        {
          "output_type": "execute_result",
          "data": {
            "application/vnd.google.colaboratory.intrinsic+json": {
              "type": "string"
            },
            "text/plain": [
              "'\\n\\nadam   BinaryCrossentropy  catagoricalCrossentropy(for more tan 2)\\n\\n'"
            ]
          },
          "metadata": {},
          "execution_count": 33
        }
      ]
    },
    {
      "cell_type": "code",
      "metadata": {
        "id": "UHxK_4qBYRbw"
      },
      "source": [
        "classifier.compile(optimizer = 'adam', loss = 'binary_crossentropy', metrics = ['accuracy'])"
      ],
      "execution_count": 34,
      "outputs": []
    },
    {
      "cell_type": "markdown",
      "metadata": {
        "id": "9PswbUspbjtw"
      },
      "source": [
        "## Choosing No of Ephocs \n",
        "No of times we want to train our ann on the whole training set \n",
        "and \n",
        "how it's accuracy is increased"
      ]
    },
    {
      "cell_type": "code",
      "metadata": {
        "colab": {
          "base_uri": "https://localhost:8080/"
        },
        "id": "Lt4k7vQsbV_X",
        "outputId": "23cd993f-4249-4c2a-9cdd-dcfd6bb0b759"
      },
      "source": [
        "# Fit ANN to training set using fit method \n",
        "# batch size = dividing into baches \n",
        "# epochs = No of epoches \n",
        "classifier.fit(X_train,y_train,batch_size= 10 , epochs= 100 )"
      ],
      "execution_count": null,
      "outputs": [
        {
          "output_type": "stream",
          "name": "stdout",
          "text": [
            "Epoch 1/100\n",
            "750/750 [==============================] - 2s 1ms/step - loss: 0.5357 - accuracy: 0.7707\n",
            "Epoch 2/100\n",
            "750/750 [==============================] - 1s 1ms/step - loss: 0.4915 - accuracy: 0.7977\n",
            "Epoch 3/100\n",
            "750/750 [==============================] - 1s 1ms/step - loss: 0.4914 - accuracy: 0.7977\n",
            "Epoch 4/100\n",
            "750/750 [==============================] - 1s 1ms/step - loss: 0.4915 - accuracy: 0.7977\n",
            "Epoch 5/100\n",
            "750/750 [==============================] - 1s 1ms/step - loss: 0.4910 - accuracy: 0.7977\n",
            "Epoch 6/100\n",
            "750/750 [==============================] - 1s 1ms/step - loss: 0.4911 - accuracy: 0.7977\n",
            "Epoch 7/100\n",
            "750/750 [==============================] - 1s 1ms/step - loss: 0.4910 - accuracy: 0.7977\n",
            "Epoch 8/100\n",
            "750/750 [==============================] - 1s 1ms/step - loss: 0.4912 - accuracy: 0.7977\n",
            "Epoch 9/100\n",
            "750/750 [==============================] - 1s 1ms/step - loss: 0.4912 - accuracy: 0.7977\n",
            "Epoch 10/100\n",
            "750/750 [==============================] - 1s 1ms/step - loss: 0.4908 - accuracy: 0.7977\n",
            "Epoch 11/100\n",
            "750/750 [==============================] - 1s 1ms/step - loss: 0.4908 - accuracy: 0.7977\n",
            "Epoch 12/100\n",
            "750/750 [==============================] - 1s 1ms/step - loss: 0.4909 - accuracy: 0.7977\n",
            "Epoch 13/100\n",
            "750/750 [==============================] - 1s 1ms/step - loss: 0.4911 - accuracy: 0.7977\n",
            "Epoch 14/100\n",
            "750/750 [==============================] - 1s 1ms/step - loss: 0.4908 - accuracy: 0.7977\n",
            "Epoch 15/100\n",
            "750/750 [==============================] - 1s 1ms/step - loss: 0.4910 - accuracy: 0.7977\n",
            "Epoch 16/100\n",
            "750/750 [==============================] - 1s 1ms/step - loss: 0.4909 - accuracy: 0.7977\n",
            "Epoch 17/100\n",
            "750/750 [==============================] - 1s 1ms/step - loss: 0.4909 - accuracy: 0.7977\n",
            "Epoch 18/100\n",
            "750/750 [==============================] - 1s 1ms/step - loss: 0.4907 - accuracy: 0.7977\n",
            "Epoch 19/100\n",
            "750/750 [==============================] - 1s 1ms/step - loss: 0.4911 - accuracy: 0.7977\n",
            "Epoch 20/100\n",
            "437/750 [================>.............] - ETA: 0s - loss: 0.4837 - accuracy: 0.8039"
          ]
        }
      ]
    },
    {
      "cell_type": "markdown",
      "metadata": {
        "id": "qMCGkrmuAp-j"
      },
      "source": [
        "## Making prediction on test set "
      ]
    },
    {
      "cell_type": "code",
      "metadata": {
        "id": "w9NCFO1EbV81"
      },
      "source": [
        "y_pred = classifier.predict(X_test)\n",
        "\n"
      ],
      "execution_count": null,
      "outputs": []
    },
    {
      "cell_type": "code",
      "metadata": {
        "id": "iUivqy4ukdMj"
      },
      "source": [
        "from sklearn.metrics import classification_report\n"
      ],
      "execution_count": null,
      "outputs": []
    },
    {
      "cell_type": "code",
      "metadata": {
        "id": "vS9NDwmSjrS6"
      },
      "source": [
        "# # model_lgb.fit(x_train, y_train, eval_set = [(x_test, y_test)], verbose = 0)\n",
        "# # display(classifier.plot_importance(classifier))\n",
        "# ### Classification Report - Train\n",
        "# print(classification_report(y_train, classifier.predict(X_trai n)))\n",
        "\n",
        "# ### Classification Report - Test/Validation\n",
        "# print(classification_report(y_test, y_pred))"
      ],
      "execution_count": null,
      "outputs": []
    },
    {
      "cell_type": "code",
      "metadata": {
        "id": "mLfJxMkGAwnm"
      },
      "source": [
        "y_pred"
      ],
      "execution_count": null,
      "outputs": []
    },
    {
      "cell_type": "code",
      "metadata": {
        "id": "w8VH-aYQjAlR"
      },
      "source": [
        "# cm = confusion_matrix(y_test, y_pred, output_dict=True)\n",
        "# print(\"\\n***** Test *****\")\n",
        "# print(cm)"
      ],
      "execution_count": null,
      "outputs": []
    },
    {
      "cell_type": "code",
      "metadata": {
        "id": "FFgYXpgobV5w"
      },
      "source": [
        "# from sklearn.metrics import confusion_matrix\n",
        "# cm = confusion_matrix(y_test, y_pred)\n",
        "# cm"
      ],
      "execution_count": null,
      "outputs": []
    },
    {
      "cell_type": "code",
      "metadata": {
        "id": "2OcXlFt9bV2E"
      },
      "source": [
        "y_test"
      ],
      "execution_count": null,
      "outputs": []
    },
    {
      "cell_type": "code",
      "metadata": {
        "id": "Kh5g_95aYRZC"
      },
      "source": [
        ""
      ],
      "execution_count": null,
      "outputs": []
    },
    {
      "cell_type": "markdown",
      "metadata": {
        "id": "EROIPZDdT4u6"
      },
      "source": [
        "## Implementing Kfold"
      ]
    },
    {
      "cell_type": "code",
      "metadata": {
        "id": "RnVY4sKiDWBb"
      },
      "source": [
        "# k fold is of sikitlearn so we can combine then by keras wrapper\n",
        "\n",
        "from keras.wrappers.scikit_learn import KerasClassifier\n",
        "from sklearn.model_selection import cross_val_score"
      ],
      "execution_count": null,
      "outputs": []
    },
    {
      "cell_type": "code",
      "metadata": {
        "id": "9BbM2xFDEsc-"
      },
      "source": [
        "# implementing K fold\n",
        "#1st arg is build fn that return the classifier that we build \n",
        "def classbuild():\n",
        "    classifier = Sequential()\n",
        "    classifier.add(Dense(6, kernel_initializer='he_uniform', activation='relu'))\n",
        "    classifier.add(Dense(6, kernel_initializer='he_uniform', activation='relu'))\n",
        "    classifier.add(Dense(1, kernel_initializer='he_uniform', activation='sigmoid'))\n",
        "    classifier.compile(optimizer = 'adam', loss = 'binary_crossentropy', metrics = ['accuracy'])\n",
        "    return classifier\n",
        "#fn builds and return the classifier \n",
        "\n",
        "#creating a global classifier variable \n",
        "#builds throuhg Kfold diff from other in train part \n",
        "classifier = KerasClassifier( build_fn = classbuild, batch_size= 10 , epochs= 100  ) \n",
        "# 10 accuracy by k fold \n",
        "#cv is no of train test folds\n",
        "#n_jobs - ann is going to be trained 10 times so we use it to make comp faster and use all cpus \n",
        "accuracy = cross_val_score(estimator = classifier, X = X_train, y = y_train,cv = 10, n_jobs = -1)\n",
        "\n",
        "# check if where we are in a variance status "
      ],
      "execution_count": null,
      "outputs": []
    },
    {
      "cell_type": "code",
      "metadata": {
        "id": "dnGQHTN941vf"
      },
      "source": [
        "# This is the relevant accuracy result \n",
        "accuracy"
      ],
      "execution_count": null,
      "outputs": []
    },
    {
      "cell_type": "code",
      "metadata": {
        "id": "kGGi8GTT5CWA"
      },
      "source": [
        "meanaccu = accuracy.mean()\n",
        "meanvar = accuracy.var()\n",
        "std = accuracy.std()\n",
        "display(std)\n",
        "display(meanaccu)\n",
        "display(meanvar)"
      ],
      "execution_count": null,
      "outputs": []
    },
    {
      "cell_type": "markdown",
      "metadata": {
        "id": "gEEBhptPeAZL"
      },
      "source": [
        "We can see that our mean accuracyis near 86% or 85.7% to be precise\n",
        "And mean variance is nearly 0\n",
        " "
      ]
    },
    {
      "cell_type": "markdown",
      "metadata": {
        "id": "xPKv9ZQne-Sg"
      },
      "source": [
        "## Tweaking weights and more parameters "
      ]
    },
    {
      "cell_type": "code",
      "metadata": {
        "id": "OgUG11Mo5Xpf"
      },
      "source": [
        ""
      ],
      "execution_count": null,
      "outputs": []
    },
    {
      "cell_type": "code",
      "metadata": {
        "id": "RVjA3wCueirR"
      },
      "source": [
        ""
      ],
      "execution_count": null,
      "outputs": []
    }
  ]
}